{
 "cells": [
  {
   "cell_type": "markdown",
   "metadata": {
    "id": "eXTZTEE1djeu"
   },
   "source": [
    "# Using Building Data in RDF & SPARQL \n",
    "\n",
    "\n",
    "A quick hands-on introduction to LinkedData using the RDFLib ecosystem.\n",
    "\n",
    "\n",
    "This notebook was created for the LDAC 2022 summer school it heavily leans on many peoples work. \n",
    "Most importantly, it is following the nice tutorials by Jörg Schad, thank you https://github.com/joerg84 for sharing your code\n",
    "\n"
   ]
  },
  {
   "cell_type": "markdown",
   "metadata": {
    "id": "j6o_RHvO369b"
   },
   "source": [
    "# Setup the environment\n",
    "\n",
    "![RDFLib](img/rdflib-packages.png)\n",
    "\n",
    "this tutorial is organized around the excellent [RDFLib ecosystem](https://rdflib.dev/) which contains manz usefull tools to get startet with Linked Data. Note however, that performance and scalability might not allways meet real-world requirements.\n"
   ]
  },
  {
   "cell_type": "code",
   "execution_count": null,
   "metadata": {
    "executionInfo": {
     "elapsed": 866,
     "status": "ok",
     "timestamp": 1625670781911,
     "user": {
      "displayName": "Jakob Beetz",
      "photoUrl": "https://lh3.googleusercontent.com/a-/AOh14GgwoArmFpZr_9f9vbfcEt7NQTMEUCAH797rMdqVYw=s64",
      "userId": "17129384887426742562"
     },
     "user_tz": -120
    },
    "id": "uXa_FfKjdje0"
   },
   "outputs": [],
   "source": [
    "import rdflib\n",
    "from rdflib import Graph\n",
    "from rdflib.namespace import DC, RDF, FOAF, RDFS\n",
    "from rdflib import URIRef, BNode, Literal\n",
    "import networkx as nx\n",
    "import io\n",
    "import pydotplus\n",
    "from IPython.display import display, Image\n",
    "from rdflib.tools.rdf2dot import rdf2dot\n",
    "from pprint import pprint"
   ]
  },
  {
   "cell_type": "code",
   "execution_count": null,
   "metadata": {
    "executionInfo": {
     "elapsed": 12,
     "status": "ok",
     "timestamp": 1625670781914,
     "user": {
      "displayName": "Jakob Beetz",
      "photoUrl": "https://lh3.googleusercontent.com/a-/AOh14GgwoArmFpZr_9f9vbfcEt7NQTMEUCAH797rMdqVYw=s64",
      "userId": "17129384887426742562"
     },
     "user_tz": -120
    },
    "id": "adp07c6c7Bgr"
   },
   "outputs": [],
   "source": [
    "# Helper function for vizualizing RDF graph\n",
    "def visualize(g):\n",
    "    stream = io.StringIO()\n",
    "    rdf2dot(g, stream, opts = {display})\n",
    "    dg = pydotplus.graph_from_dot_data(stream.getvalue())\n",
    "    png = dg.create_png()\n",
    "    display(Image(png)) "
   ]
  },
  {
   "cell_type": "markdown",
   "metadata": {
    "id": "U4WVBzEYhaaN"
   },
   "source": [
    "# A simple building graph"
   ]
  },
  {
   "cell_type": "code",
   "execution_count": null,
   "metadata": {
    "colab": {
     "base_uri": "https://localhost:8080/"
    },
    "executionInfo": {
     "elapsed": 238,
     "status": "ok",
     "timestamp": 1625670784084,
     "user": {
      "displayName": "Jakob Beetz",
      "photoUrl": "https://lh3.googleusercontent.com/a-/AOh14GgwoArmFpZr_9f9vbfcEt7NQTMEUCAH797rMdqVYw=s64",
      "userId": "17129384887426742562"
     },
     "user_tz": -120
    },
    "id": "gCJwzn8Xhct_",
    "outputId": "79667183-7a45-4025-b655-b1dfe00f7e88"
   },
   "outputs": [],
   "source": [
    "g = Graph()\n",
    "\n",
    "\n",
    "# Graph using TURTLE syntax\n",
    "turtle = \"\"\"\n",
    "@prefix : <http://www.ldac.org/ns/building1#> .\n",
    "@prefix xsd: <http://www.w3.org/2001/XMLSchema#> . \n",
    "\n",
    ":Building :hasStorey :GroundFloor .\n",
    ":GroundFloor :hasElement :Wall1 ;\n",
    "      :height    \"3.5\"^^xsd:float .\n",
    "      \n",
    "      \n",
    ":Wall1 :hasMaterial :Brick ;\n",
    "      :isExternal    \"false\"^^xsd:boolean ;\n",
    "      :hasOpening :Window1 .\n",
    ":Window1 :hasMaterial :Wood ;\n",
    "      :hasHost    :Wall1 .\n",
    "\n",
    "\"\"\"\n",
    "g.parse(data=turtle, format=\"turtle\")"
   ]
  },
  {
   "cell_type": "markdown",
   "metadata": {
    "id": "6CDE_-No7WpD"
   },
   "source": [
    "Let us print all tripes:"
   ]
  },
  {
   "cell_type": "code",
   "execution_count": null,
   "metadata": {
    "colab": {
     "base_uri": "https://localhost:8080/"
    },
    "executionInfo": {
     "elapsed": 258,
     "status": "ok",
     "timestamp": 1625670245910,
     "user": {
      "displayName": "",
      "photoUrl": "",
      "userId": ""
     },
     "user_tz": -120
    },
    "id": "8FOIjbcJ7ViM",
    "outputId": "0e06dc0e-34a5-4764-d99b-bedcd93f0cd6"
   },
   "outputs": [],
   "source": [
    "#print all triples\n",
    "for s, p, o in g:\n",
    "   pprint((s, p, o))"
   ]
  },
  {
   "cell_type": "markdown",
   "metadata": {
    "id": "86U9nOEQ7gXa"
   },
   "source": [
    "As this is hard to read, let us visualize the RDF graph:"
   ]
  },
  {
   "cell_type": "code",
   "execution_count": null,
   "metadata": {
    "colab": {
     "base_uri": "https://localhost:8080/",
     "height": 466
    },
    "executionInfo": {
     "elapsed": 959,
     "status": "ok",
     "timestamp": 1625670791678,
     "user": {
      "displayName": "Jakob Beetz",
      "photoUrl": "https://lh3.googleusercontent.com/a-/AOh14GgwoArmFpZr_9f9vbfcEt7NQTMEUCAH797rMdqVYw=s64",
      "userId": "17129384887426742562"
     },
     "user_tz": -120
    },
    "id": "6mWsZVLn7VBQ",
    "outputId": "900b2a59-0434-4c4c-8df9-84abf19b4cc5"
   },
   "outputs": [],
   "source": [
    "visualize(g)\n"
   ]
  },
  {
   "cell_type": "markdown",
   "metadata": {
    "id": "JZQkWA2-72rv"
   },
   "source": [
    "\n",
    "Let's get everying we know about wall 1:"
   ]
  },
  {
   "cell_type": "code",
   "execution_count": null,
   "metadata": {
    "colab": {
     "base_uri": "https://localhost:8080/"
    },
    "executionInfo": {
     "elapsed": 286,
     "status": "ok",
     "timestamp": 1625670278055,
     "user": {
      "displayName": "",
      "photoUrl": "",
      "userId": ""
     },
     "user_tz": -120
    },
    "id": "jI6MHUXymPZE",
    "outputId": "6345b97d-cb47-4e65-980b-d535ee8f87fa"
   },
   "outputs": [],
   "source": [
    "from pprint import pprint\n",
    "# Lookup Jane by global identifier\n",
    "wall1 = URIRef('http://www.ldac.org/ns/building1#Wall1')\n",
    "pprint([o for o in g.predicate_objects(subject=wall1)])"
   ]
  },
  {
   "cell_type": "markdown",
   "metadata": {
    "id": "r6Z0igclmd5d"
   },
   "source": [
    "# Explict construction of a  Graph"
   ]
  },
  {
   "cell_type": "markdown",
   "metadata": {
    "id": "DB4ogdG68Jh0"
   },
   "source": [
    "Instead of providing files serialized in long strings, let's create a graph explicitly. This means constructing exlicit nodes and edges (predicates). \n",
    "\n",
    "Nodes can have different on of three types:\n",
    "- URI, \n",
    "- B(lank)Node, or \n",
    "- Literals.\n",
    "\n",
    "We will recreate the BOT example 5 from the [documentation](https://w3c-lbd-cg.github.io/bot/#example-5) \n",
    "\n",
    "![grafik.png](img/bot-image-doc.png)\n"
   ]
  },
  {
   "cell_type": "code",
   "execution_count": null,
   "metadata": {},
   "outputs": [],
   "source": [
    "from rdflib import Namespace\n",
    "bot = Namespace (\"https://w3id.org/bot#\")\n",
    "ldac = Namespace (\"https://ldac.org/building2/\")\n",
    "g = Graph()\n",
    "g.bind(\"bot\", bot, False)\n",
    "g.bind(\"ldac\", ldac, False)"
   ]
  },
  {
   "cell_type": "code",
   "execution_count": null,
   "metadata": {
    "colab": {
     "base_uri": "https://localhost:8080/",
     "height": 479
    },
    "executionInfo": {
     "elapsed": 397,
     "status": "ok",
     "timestamp": 1625670283082,
     "user": {
      "displayName": "",
      "photoUrl": "",
      "userId": ""
     },
     "user_tz": -120
    },
    "id": "AhuFCDljdje3",
    "outputId": "1a105870-ae57-490d-b637-7239f5ea7da2"
   },
   "outputs": [],
   "source": [
    "SiteA = URIRef(\"https://ldac.org/building2/SiteA\")\n",
    "\n",
    "BuildingA = URIRef(\"https://ldac.org/building2/BuildingA\")\n",
    "Storey00 = URIRef(\"https://ldac.org/building2/Storey00\")\n",
    "Storey01 = URIRef(\"https://ldac.org/building2/Storey01\")\n",
    "\n",
    "SpaceA = URIRef(\"https://ldac.org/building2/SpaceA\")\n",
    "SpaceB = URIRef(\"https://ldac.org/building2/SpaceB\")\n",
    "SpaceC = URIRef(\"https://ldac.org/building2/SpaceC\")\n",
    "SpaceD = URIRef(\"https://ldac.org/building2/SpaceD\")\n",
    "\n",
    "Storey01 = URIRef(\"https://ldac.org/building2/Storey01\")\n",
    "\n",
    "\n",
    "\n",
    "g.add( (SiteA, RDF.type, bot.Site) )\n",
    "g.add( (SiteA, bot.hasBuilding, BuildingA) )\n",
    "g.add( (BuildingA, bot.hasStorey, Storey00) )\n",
    "g.add( (BuildingA, bot.hasStorey, Storey01) )\n",
    "\n",
    "g.add( (BuildingA, RDF.type, bot.Building) )\n",
    "g.add( (Storey00, bot.hasSpace, SpaceA) )\n",
    "g.add( (Storey00, bot.hasSpace, SpaceB) )\n",
    "\n",
    "\n",
    "g.add( (Storey01, bot.hasSpace, SpaceC) )\n",
    "g.add( (Storey01, bot.hasSpace, SpaceD) )\n",
    "\n",
    "g.add( (SpaceA, RDF.type, bot.Space) )\n",
    "#g.add( (SpaceB, RDF.type, bot.Space) )\n",
    "#g.add( (SpaceC, RDF.type, bot.Space) )\n",
    "#g.add( (SpaceD, RDF.type, bot.Space) )\n",
    "\n",
    "#print all triples\n",
    "for s, p, o in g:\n",
    "   pprint((s, p, o))\n",
    "\n",
    "# Visualize the graph for easy interpretation\n",
    "visualize(g)"
   ]
  },
  {
   "cell_type": "code",
   "execution_count": null,
   "metadata": {},
   "outputs": [],
   "source": [
    "g.serialize(\"mini_bot.ttl\", format=\"turtle\")"
   ]
  },
  {
   "cell_type": "code",
   "execution_count": null,
   "metadata": {},
   "outputs": [],
   "source": []
  },
  {
   "cell_type": "markdown",
   "metadata": {
    "id": "4VSbATeAdje6"
   },
   "source": [
    "# Query the BOT graph with SPARQL"
   ]
  },
  {
   "cell_type": "markdown",
   "metadata": {},
   "source": [
    "## List all facts (s,p,o triples)"
   ]
  },
  {
   "cell_type": "code",
   "execution_count": null,
   "metadata": {
    "colab": {
     "base_uri": "https://localhost:8080/"
    },
    "executionInfo": {
     "elapsed": 1798,
     "status": "ok",
     "timestamp": 1625670294532,
     "user": {
      "displayName": "",
      "photoUrl": "",
      "userId": ""
     },
     "user_tz": -120
    },
    "id": "g5nUsr7Sdje6",
    "outputId": "c98a95bf-9b8b-4659-e7c6-7f224de0569b"
   },
   "outputs": [],
   "source": [
    "\n",
    "result = g.query(\n",
    "    \"\"\"SELECT *\n",
    "  WHERE\n",
    "  {?s ?p ?o}\n",
    "  LIMIT 10\n",
    "\"\"\")\n",
    "\n",
    "# Output result\n",
    "for row in result:\n",
    "    pprint(row)\n"
   ]
  },
  {
   "cell_type": "markdown",
   "metadata": {
    "id": "1GqWWYT88lG2"
   },
   "source": [
    "## Retrieve dedicated relations\n",
    "We can leverage URIs, variables, and predicates to specify pattern we are looking for. \n",
    "\n",
    "In this case we want to retreive the spaces associated to the storeys.\n",
    "\n",
    "Note how we are making the BOT namespace available by the `initNS` statement"
   ]
  },
  {
   "cell_type": "code",
   "execution_count": null,
   "metadata": {
    "colab": {
     "base_uri": "https://localhost:8080/"
    },
    "executionInfo": {
     "elapsed": 337,
     "status": "ok",
     "timestamp": 1625670298091,
     "user": {
      "displayName": "",
      "photoUrl": "",
      "userId": ""
     },
     "user_tz": -120
    },
    "id": "Wp9n9xbIdje9",
    "outputId": "804dc7ee-9dac-438a-9dc1-1471861f5ba0"
   },
   "outputs": [],
   "source": [
    "result = g.query(\n",
    "    \"\"\"SELECT DISTINCT ?a ?b\n",
    "       WHERE {\n",
    "          ?a bot:hasSpace ?b .\n",
    "          \n",
    "       }\"\"\",  initNs={ 'bot': bot })\n",
    "\n",
    "# Output result\n",
    "for row in result:\n",
    "    print(\"%s has Space %s\" % row)"
   ]
  },
  {
   "cell_type": "markdown",
   "metadata": {
    "id": "p0jdc3gKdjfA"
   },
   "source": [
    "# Import external Data"
   ]
  },
  {
   "cell_type": "markdown",
   "metadata": {
    "id": "TIMZOBaZ99Oz"
   },
   "source": [
    "There are a large number of RDF data sources available on the web, which we can leverage:"
   ]
  },
  {
   "cell_type": "code",
   "execution_count": null,
   "metadata": {
    "colab": {
     "base_uri": "https://localhost:8080/"
    },
    "executionInfo": {
     "elapsed": 486,
     "status": "ok",
     "timestamp": 1625670301355,
     "user": {
      "displayName": "",
      "photoUrl": "",
      "userId": ""
     },
     "user_tz": -120
    },
    "id": "zIs8e6GWdjfB",
    "outputId": "87c7fbb4-7483-49a0-f80c-e66fada3aada",
    "tags": []
   },
   "outputs": [],
   "source": [
    "from rdflib import Namespace\n",
    "bot = Namespace (\"https://w3id.org/bot#\")\n",
    "duplex = Namespace (\"https://ldac.org/duplex/\")\n",
    "\n",
    "g1 = rdflib.Graph()\n",
    "g1.parse(\"https://raw.githubusercontent.com/TechnicalBuildingSystems/OpenSmartHomeData/master/00_OpenSmartHomeData.ttl\", format=\"turtle\")\n",
    "\n",
    "print(\"Graph has %s statements.\" % len(g1))\n",
    "\n",
    "# print all tuples\n",
    "for s, p, o in g1:\n",
    "   print((s, p, o))"
   ]
  },
  {
   "cell_type": "code",
   "execution_count": null,
   "metadata": {},
   "outputs": [],
   "source": [
    "g1"
   ]
  },
  {
   "cell_type": "markdown",
   "metadata": {},
   "source": [
    "# Turn IFC spaces in to a BOT Graph"
   ]
  },
  {
   "cell_type": "code",
   "execution_count": null,
   "metadata": {},
   "outputs": [],
   "source": [
    "import ifcopenshell\n",
    "model = ifcopenshell.open(\"data/Duplex_A.ifc\")"
   ]
  },
  {
   "cell_type": "markdown",
   "metadata": {},
   "source": [
    "Let us look at what we are dealing with. Only execute the cell below if you have about 1 min time to wait for the rendering"
   ]
  },
  {
   "cell_type": "code",
   "execution_count": null,
   "metadata": {},
   "outputs": [],
   "source": [
    "from utils.JupyterIFCRenderer import JupyterIFCRenderer\n",
    "viewer = JupyterIFCRenderer(model, size=(400,300))\n",
    "viewer"
   ]
  },
  {
   "cell_type": "code",
   "execution_count": null,
   "metadata": {},
   "outputs": [],
   "source": [
    "# hide all elements except for spaces\n",
    "\n",
    "for element in model.by_type(\"IfcProduct\"):\n",
    "    if not element.is_a() == \"IfcSpace\": \n",
    "        viewer.setVisible(element, False)"
   ]
  },
  {
   "cell_type": "markdown",
   "metadata": {},
   "source": [
    "### Spaces and storeys in IFC\n",
    "\n",
    "Let us take a quick glance at how spaces and storeys are related as documente in [IfcSpace  documentation](https://standards.buildingsmart.org/IFC/RELEASE/IFC4_1/FINAL/HTML/schema/ifcproductextension/lexical/ifcspace.htm) \n",
    "\n",
    "![ifcbuildingstory](img/ifcbuildingstorey-spatialstructure.png)"
   ]
  },
  {
   "cell_type": "code",
   "execution_count": null,
   "metadata": {},
   "outputs": [],
   "source": [
    "dg = Graph() #our duplex-graph\n",
    "from rdflib import Namespace\n",
    "bot = Namespace (\"https://w3id.org/bot#\")\n",
    "duplex = Namespace (\"https://ldac.org/duplex/\")\n",
    "dg.namespace_manager.bind(\"bot\", bot, False)\n",
    "dg.namespace_manager.bind(\"duplex\", duplex, False)"
   ]
  },
  {
   "cell_type": "code",
   "execution_count": null,
   "metadata": {},
   "outputs": [],
   "source": [
    "storeys = model.by_type(\"IfcBuildingStorey\")\n",
    "#pprint(storeys[0].get_info())\n",
    "for s in storeys:\n",
    "    dg.add((URIRef(duplex+f\"{s.Name.replace(' ', '_')}\"), RDF.type, bot.Storey))"
   ]
  },
  {
   "cell_type": "code",
   "execution_count": null,
   "metadata": {},
   "outputs": [],
   "source": [
    "s = storeys[0]\n"
   ]
  },
  {
   "cell_type": "code",
   "execution_count": null,
   "metadata": {},
   "outputs": [],
   "source": [
    "spaces = model.by_type(\"IfcSpace\")\n",
    "#pprint(spaces[0].get_info())\n",
    "for space in spaces:\n",
    "    spacenode=URIRef(duplex+f\"{space.LongName.replace(' ','_')}_{space.Name}\")\n",
    "    dg.add((spacenode, RDF.type, bot.Space))\n",
    "    dg.add((spacenode, bot.hasSpace, URIRef(duplex+f\"{space.Decomposes[0].RelatingObject.Name.replace(' ', '_')}\")))\n",
    "    "
   ]
  },
  {
   "cell_type": "code",
   "execution_count": null,
   "metadata": {},
   "outputs": [],
   "source": [
    "dg.serialize(\"duplex.n3\")"
   ]
  },
  {
   "cell_type": "code",
   "execution_count": null,
   "metadata": {},
   "outputs": [],
   "source": [
    "spac = spaces[0]\n",
    "spac.Decomposes[0].RelatingObject"
   ]
  },
  {
   "cell_type": "code",
   "execution_count": null,
   "metadata": {},
   "outputs": [],
   "source": [
    "visualize(dg)"
   ]
  },
  {
   "cell_type": "markdown",
   "metadata": {},
   "source": [
    "RDF Schema allows to specify classes and hierachies. These hierachies can be leverages for reasoning/inference. "
   ]
  },
  {
   "cell_type": "markdown",
   "metadata": {
    "id": "nl3itYmF319y"
   },
   "source": [
    "# Use SPAQRL to query DBpedia"
   ]
  },
  {
   "cell_type": "markdown",
   "metadata": {
    "id": "KCob2J8Y319y"
   },
   "source": [
    "[DBpedia](https://wiki.dbpedia.org/) is a semantic version of Wikipedia. \n",
    "\n",
    "Let us query DBpedia to identify birthdays of architects and their buildngs(adapted from https://open.hpi.de/courses/knowledgegraphs2020)."
   ]
  },
  {
   "cell_type": "code",
   "execution_count": null,
   "metadata": {
    "id": "9CAr3utG319y"
   },
   "outputs": [],
   "source": [
    "from datetime import datetime\n",
    "from SPARQLWrapper import SPARQLWrapper, JSON, XML, N3, RDF, CSV"
   ]
  },
  {
   "cell_type": "code",
   "execution_count": null,
   "metadata": {
    "id": "qF3cytr9319y"
   },
   "outputs": [],
   "source": [
    "sparql = SPARQLWrapper(\"http://dbpedia.org/sparql\") #determine SPARQL endpoint"
   ]
  },
  {
   "cell_type": "code",
   "execution_count": null,
   "metadata": {
    "id": "FeGKPErq319y"
   },
   "outputs": [],
   "source": [
    "# retrieve architects born today (bif:curdate) and their builidngs \n",
    "\n",
    "sparql.setQuery(\"\"\"\n",
    "PREFIX rdf: <http://www.w3.org/1999/02/22-rdf-syntax-ns#>\n",
    "PREFIX dbo: <http://dbpedia.org/ontology/>\n",
    "PREFIX rdfs: <http://www.w3.org/2000/01/rdf-schema#>\n",
    "PREFIX dc:  <http://purl.org/dc/elements/1.1/>\n",
    "PREFIX dct: <http://purl.org/dc/terms/>\n",
    "PREFIX dbp: <http://dbpedia.org/property/>\n",
    "PREFIX dbr: <http://dbpedia.org/resource/>\n",
    "PREFIX dbc: <http://dbpedia.org/resource/Category:>\n",
    "\n",
    "SELECT DISTINCT ?building, ?name, ?floors\n",
    "WHERE\n",
    "{\n",
    "    ?building a dbo:Building .\n",
    "    ?building dbo:floorCount ?floors .\n",
    "    ?building rdfs:label ?name\n",
    "    FILTER(LANGMATCHES(LANG(?name),'en'))\n",
    "    FILTER (?floors >= 100)\n",
    "}\n",
    "ORDER BY ?floors\n",
    "LIMIT 100 \n",
    "\"\"\")\n",
    "\n",
    "sparql.setReturnFormat(JSON)   # Return format is JSON\n",
    "results = sparql.query().convert()   # execute SPARQL query and write result to \"results\""
   ]
  },
  {
   "cell_type": "code",
   "execution_count": null,
   "metadata": {
    "id": "FeGKPErq319y"
   },
   "outputs": [],
   "source": [
    "# retrieve architects born today (bif:curdate) and their builidngs \n",
    "\n",
    "sparql.setQuery(\"\"\"\n",
    "PREFIX rdf: <http://www.w3.org/1999/02/22-rdf-syntax-ns#>\n",
    "PREFIX dbo: <http://dbpedia.org/ontology/>\n",
    "PREFIX rdfs: <http://www.w3.org/2000/01/rdf-schema#>\n",
    "PREFIX dc:  <http://purl.org/dc/elements/1.1/>\n",
    "PREFIX dct: <http://purl.org/dc/terms/>\n",
    "PREFIX dbp: <http://dbpedia.org/property/>\n",
    "PREFIX dbr: <http://dbpedia.org/resource/>\n",
    "PREFIX dbc: <http://dbpedia.org/resource/Category:>\n",
    "\n",
    "Select distinct ?birthdate ?architect ?name ?building ?location WHERE {\n",
    "?architect rdf:type dbo:Architect ;\n",
    "        dbo:birthDate ?birthdate ;\n",
    "        rdfs:label ?name\n",
    "     OPTIONAL {?building dbp:architect ?architect .}\n",
    " FILTER ((lang(?name)=\"en\")&&(STRLEN(STR(?birthdate))>6)&&(SUBSTR(STR(?birthdate),6)=SUBSTR(STR(bif:curdate('')),6))) .\n",
    "} ORDER BY ?birthdate\n",
    "\"\"\")\n",
    "\n",
    "sparql.setReturnFormat(JSON)   # Return format is JSON\n",
    "results = sparql.query().convert()   # execute SPARQL query and write result to \"results\""
   ]
  },
  {
   "cell_type": "code",
   "execution_count": null,
   "metadata": {
    "colab": {
     "base_uri": "https://localhost:8080/"
    },
    "executionInfo": {
     "elapsed": 847,
     "status": "ok",
     "timestamp": 1625670346706,
     "user": {
      "displayName": "",
      "photoUrl": "",
      "userId": ""
     },
     "user_tz": -120
    },
    "id": "dNUBRxEN319z",
    "outputId": "0720a3a8-f575-45fa-a0af-2b0ee8495479"
   },
   "outputs": [],
   "source": [
    "from pprint import pprint\n",
    "pprint(results)"
   ]
  }
 ],
 "metadata": {
  "colab": {
   "name": "Kopie von Sparql.ipynb",
   "provenance": [
    {
     "file_id": "https://github.com/joerg84/Graph_Powered_ML_Workshop/blob/master/Sparql.ipynb",
     "timestamp": 1625670554284
    }
   ]
  },
  "kernelspec": {
   "display_name": "Python 3",
   "language": "python",
   "name": "python3"
  },
  "language_info": {
   "codemirror_mode": {
    "name": "ipython",
    "version": 3
   },
   "file_extension": ".py",
   "mimetype": "text/x-python",
   "name": "python",
   "nbconvert_exporter": "python",
   "pygments_lexer": "ipython3",
   "version": "3.8.8"
  }
 },
 "nbformat": 4,
 "nbformat_minor": 4
}
